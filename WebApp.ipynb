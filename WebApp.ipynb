{
  "cells": [
    {
      "cell_type": "code",
      "execution_count": null,
      "metadata": {
        "colab": {
          "base_uri": "https://localhost:8080/"
        },
        "id": "SNUBDOIBmwlu",
        "outputId": "c7b934e7-2629-489c-da19-003e26d479b6"
      },
      "outputs": [
        {
          "name": "stdout",
          "output_type": "stream",
          "text": [
            "\u001b[2K     \u001b[90m━━━━━━━━━━━━━━━━━━━━━━━━━━━━━━━━━━━━━━━━\u001b[0m \u001b[32m9.7/9.7 MB\u001b[0m \u001b[31m44.1 MB/s\u001b[0m eta \u001b[36m0:00:00\u001b[0m\n",
            "\u001b[2K     \u001b[90m━━━━━━━━━━━━━━━━━━━━━━━━━━━━━━━━━━━━━━\u001b[0m \u001b[32m164.8/164.8 kB\u001b[0m \u001b[31m11.0 MB/s\u001b[0m eta \u001b[36m0:00:00\u001b[0m\n",
            "\u001b[2K     \u001b[90m━━━━━━━━━━━━━━━━━━━━━━━━━━━━━━━━━━━━━━━━\u001b[0m \u001b[32m82.1/82.1 kB\u001b[0m \u001b[31m4.7 MB/s\u001b[0m eta \u001b[36m0:00:00\u001b[0m\n",
            "\u001b[?25h  Preparing metadata (setup.py) ... \u001b[?25l\u001b[?25hdone\n",
            "\u001b[2K     \u001b[90m━━━━━━━━━━━━━━━━━━━━━━━━━━━━━━━━━━━━━━━\u001b[0m \u001b[32m184.3/184.3 kB\u001b[0m \u001b[31m6.1 MB/s\u001b[0m eta \u001b[36m0:00:00\u001b[0m\n",
            "\u001b[2K     \u001b[90m━━━━━━━━━━━━━━━━━━━━━━━━━━━━━━━━━━━━━━━━\u001b[0m \u001b[32m4.8/4.8 MB\u001b[0m \u001b[31m41.0 MB/s\u001b[0m eta \u001b[36m0:00:00\u001b[0m\n",
            "\u001b[2K     \u001b[90m━━━━━━━━━━━━━━━━━━━━━━━━━━━━━━━━━━━━━━━━\u001b[0m \u001b[32m62.7/62.7 kB\u001b[0m \u001b[31m2.3 MB/s\u001b[0m eta \u001b[36m0:00:00\u001b[0m\n",
            "\u001b[?25h  Building wheel for validators (setup.py) ... \u001b[?25l\u001b[?25hdone\n"
          ]
        }
      ],
      "source": [
        "!pip install streamlit -q"
      ]
    },
    {
      "cell_type": "markdown",
      "metadata": {
        "id": "GO8V955z7Vn7"
      },
      "source": [
        "My code"
      ]
    },
    {
      "cell_type": "code",
      "execution_count": null,
      "metadata": {
        "colab": {
          "base_uri": "https://localhost:8080/"
        },
        "id": "CFP97_j2A1li",
        "outputId": "a2c14aad-60a1-4ca4-c140-d0b1e0fb0a2b"
      },
      "outputs": [
        {
          "name": "stdout",
          "output_type": "stream",
          "text": [
            "Writing app.py\n"
          ]
        }
      ],
      "source": [
        "%%writefile app.py\n",
        "import streamlit as st\n",
        "from textblob import TextBlob\n",
        "\n",
        "#st.title(\"Sentiment Analysis App\")\n",
        "\n",
        "text = st.text_input(\"Enter some text\")\n",
        "\n",
        "if text:\n",
        "    blob = TextBlob(text)\n",
        "    sentiment = blob.sentiment.polarity\n",
        "    if sentiment > 0:\n",
        "        st.success(\"Positive\")\n",
        "    elif sentiment < 0:\n",
        "        st.success(\"Negative\")\n",
        "    else:\n",
        "        st.success(\"Neutral\")\n",
        "  \n",
        "\n",
        "    polarity_visual = (sentiment + 1) / 2  # Normalize polarity to range [0, 1]\n",
        "    polarity_scale = st.slider('Polarity Scale', min_value=-1.0, max_value=1.0, value=polarity_visual, step=0.01)\n",
        "    #st.slider(\"Sentiment Polarity\", min_value=-1.0, max_value=1.0, value=sentiment)\n",
        "    #polarity_visual = (sentiment + 1) / 2  # Normalize polarity to range [0, 1]\n",
        "    #polarity_scale = st.slider('Polarity Scale', min_value=-1.0, max_value=1.0, value=polarity_visual, step=0.01)\n",
        "    #st.write('Polarity Scale:')\n",
        "    #st.write(f'{\"Negative\":-<20} {\"Positive\":->20}')\n",
        "    #st.write('|', '-'*int((polarity_scale+1)*20), 'o', '-'*int((1-polarity_scale)*20), '|')\n",
        "    #st.write(f'{\"-\"*40} 0 {\"-\"*40} 1 {\"-\"*40}')\n",
        "    #st.write('|', '-'*int((polarity_scale+1)*40/2), 'o', '-'*int((1-polarity_scale)*40/2), '|')\n",
        "\n",
        "# Set app title\n",
        "st.title('Sentiment Analysis and Polarity Detection on Airline Tweets')\n"
      ]
    },
    {
      "cell_type": "code",
      "execution_count": null,
      "metadata": {
        "colab": {
          "background_save": true,
          "base_uri": "https://localhost:8080/"
        },
        "id": "JPIqS0dtSo7c",
        "outputId": "d7c19870-abad-4c06-be07-84b34ac91a2e"
      },
      "outputs": [
        {
          "name": "stdout",
          "output_type": "stream",
          "text": [
            "[##................] - fetchMetadata: sill resolveWithNewModule yargs-parser@20\u001b[0m\u001b[K\n",
            "Collecting usage statistics. To deactivate, set browser.gatherUsageStats to False.\n",
            "\u001b[0m\n",
            "\u001b[0m\n",
            "\u001b[34m\u001b[1m  You can now view your Streamlit app in your browser.\u001b[0m\n",
            "\u001b[0m\n",
            "\u001b[34m  Network URL: \u001b[0m\u001b[1mhttp://172.28.0.12:8501\u001b[0m\n",
            "\u001b[34m  External URL: \u001b[0m\u001b[1mhttp://34.74.182.9:8501\u001b[0m\n",
            "\u001b[0m\n",
            "\u001b[K\u001b[?25hnpx: installed 22 in 7.309s\n",
            "your url is: https://lemon-needles-play-34-74-182-9.loca.lt\n"
          ]
        }
      ],
      "source": [
        "!streamlit run app.py & npx localtunnel --port 8501"
      ]
    }
  ],
  "metadata": {
    "colab": {
      "provenance": []
    },
    "kernelspec": {
      "display_name": "Python 3",
      "name": "python3"
    },
    "language_info": {
      "name": "python"
    }
  },
  "nbformat": 4,
  "nbformat_minor": 0
}